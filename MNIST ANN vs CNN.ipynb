{
 "cells": [
  {
   "cell_type": "code",
   "execution_count": 23,
   "id": "57bc2508",
   "metadata": {},
   "outputs": [],
   "source": [
    "import pandas as pd\n",
    "import numpy as np\n",
    "import tensorflow as tf\n",
    "from sklearn.metrics import accuracy_score, precision_score, recall_score, f1_score\n",
    "import matplotlib.pyplot as plt\n",
    "import math\n",
    "from sklearn.model_selection import train_test_split\n",
    "from sklearn.preprocessing import StandardScaler\n",
    "from sklearn.neighbors import KNeighborsClassifier\n",
    "from sklearn.metrics import confusion_matrix\n",
    "from sklearn.metrics import accuracy_score\n",
    "from keras.models import Sequential\n",
    "from keras.layers import Dense\n",
    "from sklearn.ensemble import RandomForestClassifier"
   ]
  },
  {
   "cell_type": "code",
   "execution_count": 2,
   "id": "aed79810",
   "metadata": {},
   "outputs": [],
   "source": [
    "train = pd.read_csv('/Users/lapstore/Downloads/mnist_train.csv')\n",
    "test = pd.read_csv('/Users/lapstore/Downloads/mnist_test.csv')"
   ]
  },
  {
   "cell_type": "code",
   "execution_count": 3,
   "id": "555679cc",
   "metadata": {
    "scrolled": true
   },
   "outputs": [
    {
     "data": {
      "text/html": [
       "<div>\n",
       "<style scoped>\n",
       "    .dataframe tbody tr th:only-of-type {\n",
       "        vertical-align: middle;\n",
       "    }\n",
       "\n",
       "    .dataframe tbody tr th {\n",
       "        vertical-align: top;\n",
       "    }\n",
       "\n",
       "    .dataframe thead th {\n",
       "        text-align: right;\n",
       "    }\n",
       "</style>\n",
       "<table border=\"1\" class=\"dataframe\">\n",
       "  <thead>\n",
       "    <tr style=\"text-align: right;\">\n",
       "      <th></th>\n",
       "      <th>label</th>\n",
       "      <th>1x1</th>\n",
       "      <th>1x2</th>\n",
       "      <th>1x3</th>\n",
       "      <th>1x4</th>\n",
       "      <th>1x5</th>\n",
       "      <th>1x6</th>\n",
       "      <th>1x7</th>\n",
       "      <th>1x8</th>\n",
       "      <th>1x9</th>\n",
       "      <th>...</th>\n",
       "      <th>28x19</th>\n",
       "      <th>28x20</th>\n",
       "      <th>28x21</th>\n",
       "      <th>28x22</th>\n",
       "      <th>28x23</th>\n",
       "      <th>28x24</th>\n",
       "      <th>28x25</th>\n",
       "      <th>28x26</th>\n",
       "      <th>28x27</th>\n",
       "      <th>28x28</th>\n",
       "    </tr>\n",
       "  </thead>\n",
       "  <tbody>\n",
       "    <tr>\n",
       "      <th>0</th>\n",
       "      <td>5</td>\n",
       "      <td>0</td>\n",
       "      <td>0</td>\n",
       "      <td>0</td>\n",
       "      <td>0</td>\n",
       "      <td>0</td>\n",
       "      <td>0</td>\n",
       "      <td>0</td>\n",
       "      <td>0</td>\n",
       "      <td>0</td>\n",
       "      <td>...</td>\n",
       "      <td>0</td>\n",
       "      <td>0</td>\n",
       "      <td>0</td>\n",
       "      <td>0</td>\n",
       "      <td>0</td>\n",
       "      <td>0</td>\n",
       "      <td>0</td>\n",
       "      <td>0</td>\n",
       "      <td>0</td>\n",
       "      <td>0</td>\n",
       "    </tr>\n",
       "    <tr>\n",
       "      <th>1</th>\n",
       "      <td>0</td>\n",
       "      <td>0</td>\n",
       "      <td>0</td>\n",
       "      <td>0</td>\n",
       "      <td>0</td>\n",
       "      <td>0</td>\n",
       "      <td>0</td>\n",
       "      <td>0</td>\n",
       "      <td>0</td>\n",
       "      <td>0</td>\n",
       "      <td>...</td>\n",
       "      <td>0</td>\n",
       "      <td>0</td>\n",
       "      <td>0</td>\n",
       "      <td>0</td>\n",
       "      <td>0</td>\n",
       "      <td>0</td>\n",
       "      <td>0</td>\n",
       "      <td>0</td>\n",
       "      <td>0</td>\n",
       "      <td>0</td>\n",
       "    </tr>\n",
       "    <tr>\n",
       "      <th>2</th>\n",
       "      <td>4</td>\n",
       "      <td>0</td>\n",
       "      <td>0</td>\n",
       "      <td>0</td>\n",
       "      <td>0</td>\n",
       "      <td>0</td>\n",
       "      <td>0</td>\n",
       "      <td>0</td>\n",
       "      <td>0</td>\n",
       "      <td>0</td>\n",
       "      <td>...</td>\n",
       "      <td>0</td>\n",
       "      <td>0</td>\n",
       "      <td>0</td>\n",
       "      <td>0</td>\n",
       "      <td>0</td>\n",
       "      <td>0</td>\n",
       "      <td>0</td>\n",
       "      <td>0</td>\n",
       "      <td>0</td>\n",
       "      <td>0</td>\n",
       "    </tr>\n",
       "    <tr>\n",
       "      <th>3</th>\n",
       "      <td>1</td>\n",
       "      <td>0</td>\n",
       "      <td>0</td>\n",
       "      <td>0</td>\n",
       "      <td>0</td>\n",
       "      <td>0</td>\n",
       "      <td>0</td>\n",
       "      <td>0</td>\n",
       "      <td>0</td>\n",
       "      <td>0</td>\n",
       "      <td>...</td>\n",
       "      <td>0</td>\n",
       "      <td>0</td>\n",
       "      <td>0</td>\n",
       "      <td>0</td>\n",
       "      <td>0</td>\n",
       "      <td>0</td>\n",
       "      <td>0</td>\n",
       "      <td>0</td>\n",
       "      <td>0</td>\n",
       "      <td>0</td>\n",
       "    </tr>\n",
       "    <tr>\n",
       "      <th>4</th>\n",
       "      <td>9</td>\n",
       "      <td>0</td>\n",
       "      <td>0</td>\n",
       "      <td>0</td>\n",
       "      <td>0</td>\n",
       "      <td>0</td>\n",
       "      <td>0</td>\n",
       "      <td>0</td>\n",
       "      <td>0</td>\n",
       "      <td>0</td>\n",
       "      <td>...</td>\n",
       "      <td>0</td>\n",
       "      <td>0</td>\n",
       "      <td>0</td>\n",
       "      <td>0</td>\n",
       "      <td>0</td>\n",
       "      <td>0</td>\n",
       "      <td>0</td>\n",
       "      <td>0</td>\n",
       "      <td>0</td>\n",
       "      <td>0</td>\n",
       "    </tr>\n",
       "  </tbody>\n",
       "</table>\n",
       "<p>5 rows × 785 columns</p>\n",
       "</div>"
      ],
      "text/plain": [
       "   label  1x1  1x2  1x3  1x4  1x5  1x6  1x7  1x8  1x9  ...  28x19  28x20  \\\n",
       "0      5    0    0    0    0    0    0    0    0    0  ...      0      0   \n",
       "1      0    0    0    0    0    0    0    0    0    0  ...      0      0   \n",
       "2      4    0    0    0    0    0    0    0    0    0  ...      0      0   \n",
       "3      1    0    0    0    0    0    0    0    0    0  ...      0      0   \n",
       "4      9    0    0    0    0    0    0    0    0    0  ...      0      0   \n",
       "\n",
       "   28x21  28x22  28x23  28x24  28x25  28x26  28x27  28x28  \n",
       "0      0      0      0      0      0      0      0      0  \n",
       "1      0      0      0      0      0      0      0      0  \n",
       "2      0      0      0      0      0      0      0      0  \n",
       "3      0      0      0      0      0      0      0      0  \n",
       "4      0      0      0      0      0      0      0      0  \n",
       "\n",
       "[5 rows x 785 columns]"
      ]
     },
     "execution_count": 3,
     "metadata": {},
     "output_type": "execute_result"
    }
   ],
   "source": [
    "train.head()"
   ]
  },
  {
   "cell_type": "code",
   "execution_count": 4,
   "id": "cfe034a7",
   "metadata": {},
   "outputs": [
    {
     "data": {
      "text/plain": [
       "label    int64\n",
       "1x1      int64\n",
       "1x2      int64\n",
       "1x3      int64\n",
       "1x4      int64\n",
       "         ...  \n",
       "28x24    int64\n",
       "28x25    int64\n",
       "28x26    int64\n",
       "28x27    int64\n",
       "28x28    int64\n",
       "Length: 785, dtype: object"
      ]
     },
     "execution_count": 4,
     "metadata": {},
     "output_type": "execute_result"
    }
   ],
   "source": [
    "train.dtypes"
   ]
  },
  {
   "cell_type": "code",
   "execution_count": 5,
   "id": "a957379e",
   "metadata": {},
   "outputs": [],
   "source": [
    "cols = train.columns"
   ]
  },
  {
   "cell_type": "code",
   "execution_count": 6,
   "id": "7d02a658",
   "metadata": {},
   "outputs": [
    {
     "data": {
      "text/plain": [
       "label    0\n",
       "1x1      0\n",
       "1x2      0\n",
       "1x3      0\n",
       "1x4      0\n",
       "        ..\n",
       "28x24    0\n",
       "28x25    0\n",
       "28x26    0\n",
       "28x27    0\n",
       "28x28    0\n",
       "Length: 785, dtype: int64"
      ]
     },
     "execution_count": 6,
     "metadata": {},
     "output_type": "execute_result"
    }
   ],
   "source": [
    "train[cols].isnull().sum()"
   ]
  },
  {
   "cell_type": "code",
   "execution_count": 7,
   "id": "21246ccc",
   "metadata": {},
   "outputs": [
    {
     "data": {
      "text/plain": [
       "0"
      ]
     },
     "execution_count": 7,
     "metadata": {},
     "output_type": "execute_result"
    }
   ],
   "source": [
    "train.duplicated().sum()\n",
    "#The data is already clean"
   ]
  },
  {
   "cell_type": "code",
   "execution_count": 8,
   "id": "b19b3c46",
   "metadata": {},
   "outputs": [],
   "source": [
    "train_labels = train.iloc[:, 0].values\n",
    "train_images = train.iloc[:, 1:].values\n",
    "test_labels = test.iloc[:, 0].values\n",
    "test_images = test.iloc[:, 1:].values\n",
    "\n",
    "# Reshape data\n",
    "train_images = train_images.reshape(train_images.shape[0], 28, 28, 1)\n",
    "test_images = test_images.reshape(test_images.shape[0], 28, 28, 1)\n",
    "\n",
    "# Normalize Data\n",
    "train_images = train_images / 255.0\n",
    "test_images = test_images / 255.0\n"
   ]
  },
  {
   "cell_type": "code",
   "execution_count": 9,
   "id": "f0829a06",
   "metadata": {},
   "outputs": [
    {
     "name": "stdout",
     "output_type": "stream",
     "text": [
      "Epoch 1/10\n",
      "1875/1875 [==============================] - 2s 819us/step - loss: 0.2396 - accuracy: 0.9298 - val_loss: 0.1476 - val_accuracy: 0.9547\n",
      "Epoch 2/10\n",
      "1875/1875 [==============================] - 2s 804us/step - loss: 0.1022 - accuracy: 0.9690 - val_loss: 0.0901 - val_accuracy: 0.9712\n",
      "Epoch 3/10\n",
      "1875/1875 [==============================] - 1s 768us/step - loss: 0.0722 - accuracy: 0.9772 - val_loss: 0.0990 - val_accuracy: 0.9704\n",
      "Epoch 4/10\n",
      "1875/1875 [==============================] - 1s 695us/step - loss: 0.0547 - accuracy: 0.9827 - val_loss: 0.0964 - val_accuracy: 0.9705\n",
      "Epoch 5/10\n",
      "1875/1875 [==============================] - 1s 721us/step - loss: 0.0443 - accuracy: 0.9858 - val_loss: 0.0870 - val_accuracy: 0.9724\n",
      "Epoch 6/10\n",
      "1875/1875 [==============================] - 1s 718us/step - loss: 0.0364 - accuracy: 0.9879 - val_loss: 0.0861 - val_accuracy: 0.9766\n",
      "Epoch 7/10\n",
      "1875/1875 [==============================] - 1s 754us/step - loss: 0.0295 - accuracy: 0.9900 - val_loss: 0.0924 - val_accuracy: 0.9747\n",
      "Epoch 8/10\n",
      "1875/1875 [==============================] - 1s 724us/step - loss: 0.0259 - accuracy: 0.9913 - val_loss: 0.0813 - val_accuracy: 0.9789\n",
      "Epoch 9/10\n",
      "1875/1875 [==============================] - 1s 725us/step - loss: 0.0210 - accuracy: 0.9929 - val_loss: 0.0959 - val_accuracy: 0.9748\n",
      "Epoch 10/10\n",
      "1875/1875 [==============================] - 1s 742us/step - loss: 0.0196 - accuracy: 0.9936 - val_loss: 0.0964 - val_accuracy: 0.9745\n"
     ]
    }
   ],
   "source": [
    "# Second Task - Artificial Neural Network\n",
    "# Build Model\n",
    "model_ann = tf.keras.models.Sequential([\n",
    "    tf.keras.layers.Flatten(input_shape=(28,28)),\n",
    "    tf.keras.layers.Dense(128, activation='relu'),\n",
    "    tf.keras.layers.Dense(64, activation='relu'),\n",
    "    tf.keras.layers.Dense(10, activation='softmax')\n",
    "])\n",
    "\n",
    "# Compile Model\n",
    "model_ann.compile(optimizer='adam', loss='sparse_categorical_crossentropy', metrics=['accuracy'])\n",
    "\n",
    "# Train Model\n",
    "history_ann=model_ann.fit(train_images, train_labels, epochs=10, validation_data=(test_images, test_labels))"
   ]
  },
  {
   "cell_type": "code",
   "execution_count": 10,
   "id": "30861689",
   "metadata": {},
   "outputs": [
    {
     "name": "stdout",
     "output_type": "stream",
     "text": [
      "313/313 [==============================] - 0s 351us/step\n",
      "Artificial Neural Network Metrics\n",
      "Accuracy: 0.9745\n",
      "Precision: 0.9748410796763771\n",
      "Recall: 0.9741880235434559\n",
      "F1-Score: 0.9743503215953998\n"
     ]
    }
   ],
   "source": [
    "# Evaluate Model\n",
    "test_predictions_ann = model_ann.predict(test_images)\n",
    "test_predictions_ann = np.argmax(test_predictions_ann, axis=1)\n",
    "\n",
    "accuracy_ann = accuracy_score(test_labels, test_predictions_ann)\n",
    "precision_ann = precision_score(test_labels, test_predictions_ann, average='macro')\n",
    "recall_ann = recall_score(test_labels, test_predictions_ann, average='macro')\n",
    "f1_ann = f1_score(test_labels, test_predictions_ann, average='macro')\n",
    "\n",
    "print('Artificial Neural Network Metrics')\n",
    "print('Accuracy:', accuracy_ann)\n",
    "print('Precision:', precision_ann)\n",
    "print('Recall:', recall_ann)\n",
    "print('F1-Score:', f1_ann)"
   ]
  },
  {
   "cell_type": "code",
   "execution_count": 11,
   "id": "c42c146b",
   "metadata": {},
   "outputs": [
    {
     "data": {
      "image/png": "[encoded data removed]",
      "text/plain": [
       "<Figure size 640x480 with 1 Axes>"
      ]
     },
     "metadata": {},
     "output_type": "display_data"
    }
   ],
   "source": [
    "# Visualize ANN Performance\n",
    "plt.plot(history_ann.history['accuracy'], label='train')\n",
    "plt.plot(history_ann.history['val_accuracy'], label='validation')\n",
    "plt.title('Artificial Neural Network Accuracy')\n",
    "plt.xlabel('Epoch')\n",
    "plt.ylabel('Accuracy')\n",
    "plt.legend()\n",
    "plt.show()"
   ]
  },
  {
   "cell_type": "code",
   "execution_count": 12,
   "id": "a24c2133",
   "metadata": {},
   "outputs": [
    {
     "name": "stdout",
     "output_type": "stream",
     "text": [
      "Epoch 1/10\n",
      "1875/1875 [==============================] - 12s 6ms/step - loss: 0.1426 - accuracy: 0.9564 - val_loss: 0.0497 - val_accuracy: 0.9842\n",
      "Epoch 2/10\n",
      "1875/1875 [==============================] - 12s 6ms/step - loss: 0.0469 - accuracy: 0.9855 - val_loss: 0.0494 - val_accuracy: 0.9843\n",
      "Epoch 3/10\n",
      "1875/1875 [==============================] - 12s 6ms/step - loss: 0.0331 - accuracy: 0.9899 - val_loss: 0.0327 - val_accuracy: 0.9881\n",
      "Epoch 4/10\n",
      "1875/1875 [==============================] - 11s 6ms/step - loss: 0.0237 - accuracy: 0.9926 - val_loss: 0.0343 - val_accuracy: 0.9896\n",
      "Epoch 5/10\n",
      "1875/1875 [==============================] - 11s 6ms/step - loss: 0.0186 - accuracy: 0.9941 - val_loss: 0.0271 - val_accuracy: 0.9911\n",
      "Epoch 6/10\n",
      "1875/1875 [==============================] - 11s 6ms/step - loss: 0.0149 - accuracy: 0.9953 - val_loss: 0.0313 - val_accuracy: 0.9901\n",
      "Epoch 7/10\n",
      "1875/1875 [==============================] - 11s 6ms/step - loss: 0.0119 - accuracy: 0.9959 - val_loss: 0.0311 - val_accuracy: 0.9899\n",
      "Epoch 8/10\n",
      "1875/1875 [==============================] - 11s 6ms/step - loss: 0.0092 - accuracy: 0.9971 - val_loss: 0.0232 - val_accuracy: 0.9923\n",
      "Epoch 9/10\n",
      "1875/1875 [==============================] - 11s 6ms/step - loss: 0.0074 - accuracy: 0.9975 - val_loss: 0.0339 - val_accuracy: 0.9908\n",
      "Epoch 10/10\n",
      "1875/1875 [==============================] - 12s 6ms/step - loss: 0.0070 - accuracy: 0.9977 - val_loss: 0.0453 - val_accuracy: 0.9867\n"
     ]
    }
   ],
   "source": [
    "# Third Task - Convolutional Neural Network\n",
    "# Build Model\n",
    "model_cnn = tf.keras.models.Sequential([\n",
    "    tf.keras.layers.Conv2D(32, (3,3), activation='relu', input_shape=(28,28,1)),\n",
    "    tf.keras.layers.MaxPooling2D((2,2)),\n",
    "    tf.keras.layers.Conv2D(64, (3,3), activation='relu'),\n",
    "    tf.keras.layers.MaxPooling2D((2,2)),\n",
    "    tf.keras.layers.Flatten(),\n",
    "    tf.keras.layers.Dense(64, activation='relu'),\n",
    "    tf.keras.layers.Dense(10, activation='softmax')\n",
    "])\n",
    "\n",
    "# Compile Model\n",
    "model_cnn.compile(optimizer='adam', loss='sparse_categorical_crossentropy', metrics=['accuracy'])\n",
    "\n",
    "# Train Model\n",
    "history_cnn=model_cnn.fit(train_images, train_labels, epochs=10, validation_data=(test_images, test_labels))"
   ]
  },
  {
   "cell_type": "code",
   "execution_count": 13,
   "id": "c82e9033",
   "metadata": {},
   "outputs": [
    {
     "name": "stdout",
     "output_type": "stream",
     "text": [
      "313/313 [==============================] - 1s 2ms/step\n",
      "Convolutional Neural Network Metrics\n",
      "Accuracy: 0.9867\n",
      "Precision: 0.9868773246019547\n",
      "Recall: 0.9868282345635911\n",
      "Convolutional Neural Network Metrics\n",
      "F1-Score: 0.986768799698409\n"
     ]
    }
   ],
   "source": [
    "# Evaluate Model\n",
    "test_predictions_cnn = model_cnn.predict(test_images)\n",
    "test_predictions_cnn = np.argmax(test_predictions_cnn, axis=1)\n",
    "\n",
    "accuracy_cnn = accuracy_score(test_labels, test_predictions_cnn)\n",
    "precision_cnn = precision_score(test_labels, test_predictions_cnn, average='macro')\n",
    "recall_cnn = recall_score(test_labels, test_predictions_cnn, average='macro')\n",
    "f1_cnn = f1_score(test_labels, test_predictions_cnn, average='macro')\n",
    "\n",
    "print('Convolutional Neural Network Metrics')\n",
    "print('Accuracy:', accuracy_cnn)\n",
    "print('Precision:', precision_cnn)\n",
    "print('Recall:', recall_cnn)\n",
    "print('Convolutional Neural Network Metrics')\n",
    "print('F1-Score:', f1_cnn)"
   ]
  },
  {
   "cell_type": "code",
   "execution_count": 14,
   "id": "718b026e",
   "metadata": {},
   "outputs": [
    {
     "data": {
      "image/png": "[encoded data removed]",
      "text/plain": [
       "<Figure size 640x480 with 1 Axes>"
      ]
     },
     "metadata": {},
     "output_type": "display_data"
    }
   ],
   "source": [
    "# Visualize CNN Performance\n",
    "plt.plot(history_cnn.history['accuracy'], label='train')\n",
    "plt.plot(history_cnn.history['val_accuracy'], label='validation')\n",
    "plt.title('Convolutional Neural Network Accuracy')\n",
    "plt.xlabel('Epoch')\n",
    "plt.ylabel('Accuracy')\n",
    "plt.legend()\n",
    "plt.show()"
   ]
  },
  {
   "cell_type": "code",
   "execution_count": 15,
   "id": "aa009add",
   "metadata": {},
   "outputs": [
    {
     "name": "stdout",
     "output_type": "stream",
     "text": [
      "Comparing Results: \n",
      "Accuracy ANN: 0.9745\n",
      "Accuracy CNN: 0.9867\n"
     ]
    }
   ],
   "source": [
    "# Compare Results\n",
    "print('Comparing Results: ')\n",
    "print('Accuracy ANN:', accuracy_ann)\n",
    "print('Accuracy CNN:', accuracy_cnn)"
   ]
  },
  {
   "cell_type": "code",
   "execution_count": null,
   "id": "0f5d3417",
   "metadata": {},
   "outputs": [],
   "source": []
  }
 ],
 "metadata": {
  "kernelspec": {
   "display_name": "Python 3 (ipykernel)",
   "language": "python",
   "name": "python3"
  },
  "language_info": {
   "codemirror_mode": {
    "name": "ipython",
    "version": 3
   },
   "file_extension": ".py",
   "mimetype": "text/x-python",
   "name": "python",
   "nbconvert_exporter": "python",
   "pygments_lexer": "ipython3",
   "version": "3.9.13"
  }
 },
 "nbformat": 4,
 "nbformat_minor": 5
}
